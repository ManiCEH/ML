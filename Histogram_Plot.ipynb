{
 "cells": [
  {
   "cell_type": "code",
   "execution_count": null,
   "metadata": {},
   "outputs": [],
   "source": [
    "import pandas as pd\n",
    "import numpy as np\n",
    "import matplotlib.pyplot as plt\n",
    "\n",
    "# Creating a DataFrame with 'mileage' column\n",
    "data = {\n",
    "    'mileage': [10000, 20000, 30000, 35000, 40000, 45000, 50000, 55000, 60000, 65000, \n",
    "                70000, 75000, 80000, 85000, 90000, 95000, 100000, 105000, 110000, 115000]\n",
    "}\n",
    "df = pd.DataFrame(data)\n",
    "\n",
    "# Generating histogram for 'mileage' column with 50 bins\n",
    "df['mileage'].hist(bins=50)\n",
    "plt.xlabel('Mileage')\n",
    "plt.ylabel('Frequency')\n",
    "plt.title('Histogram of Mileage')\n",
    "plt.show()\n"
   ]
  }
 ],
 "metadata": {
  "kernelspec": {
   "display_name": "Python 3",
   "language": "python",
   "name": "python3"
  },
  "language_info": {
   "name": "python",
   "version": "3.11.2"
  }
 },
 "nbformat": 4,
 "nbformat_minor": 2
}
